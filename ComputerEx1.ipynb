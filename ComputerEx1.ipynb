{
 "cells": [
  {
   "cell_type": "markdown",
   "metadata": {},
   "source": [
    "# Homework 1: Linear Systems Part I"
   ]
  },
  {
   "cell_type": "markdown",
   "metadata": {},
   "source": [
    "## General Instructions\n",
    " \n",
    "* To pass this assignment requires to complete the present Jupyter notebook by\n",
    "    + providing correct answers to all the theoretical exercises, and by\n",
    "    + providing complete and runnable computer code producing the correct results to all the computational problems.\n",
    "\n",
    "* For the theoretical exercises, please include intermediate steps to\n",
    "  explain how you arrive at your solution.\n",
    "* Don't overengineer your code, keep it as simple and readable as possible   and provide short code comments to help other people understanding your     code.\n",
    "* Please provide also a short summary and discussion of your results \n",
    "  including the requested output (e.g., tables, graphs etc.).\n",
    "\n",
    "* Up to 3 students can jointly submit the solutions (4 students if at\n",
    "  least one is an exchange student) **Only 1 student from each group** \n",
    "  is supposed to submit them.  \n",
    "\n",
    "##### Deadline for submission of your solutions is **5th of September**.\n",
    "\n",
    "\n",
    "###  Happy coding!"
   ]
  },
  {
   "cell_type": "markdown",
   "metadata": {},
   "source": [
    "**And before we start:**\n",
    "\n",
    "Executing the following cell loads a non-default css style for the notebook. \n",
    "Make sure that you download the corresponding css file  `tmas4215.css` from the `lab/styles` Blackbord folder. Note that the following code snippet assumes that the file resides inside the folder `../styles/` relative to the folder where you stored this notebook on you computer."
   ]
  },
  {
   "cell_type": "code",
   "execution_count": 1,
   "metadata": {
    "collapsed": true
   },
   "outputs": [],
   "source": [
    "from IPython.core.display import HTML\n",
    "def css_styling():\n",
    "    styles = open(\"C:/Users/Haavard/Downloads/styles/tma4215.css\", \"r\").read()\n",
    "    return HTML(styles)\n",
    "\n",
    "# Comment out next line and execute this cell to restore the default notebook style \n",
    "#css_styling()"
   ]
  },
  {
   "cell_type": "markdown",
   "metadata": {},
   "source": [
    "### Useful code snippets\n",
    "\n",
    "We provide a few of code snippets to get you\n",
    "started in Python. Three dots $\\ldots$ indicate places where you have\n",
    "to fill in code. We start with importing the necessary scientific libraries\n",
    "and define a name alias for them."
   ]
  },
  {
   "cell_type": "code",
   "execution_count": 2,
   "metadata": {
    "collapsed": true,
    "jupyter": {
     "outputs_hidden": true
    }
   },
   "outputs": [],
   "source": [
    "# Arrary and stuff \n",
    "import numpy as np\n",
    "# Linear algebra solvers from scipy\n",
    "import scipy.linalg as la\n",
    "# Basic plotting routines from the matplotlib library \n",
    "import matplotlib.pyplot as plt"
   ]
  },
  {
   "cell_type": "markdown",
   "metadata": {},
   "source": [
    "## Problem 1\n",
    "Provide a complete proof of Theorem 2 from Lecture 2,\n",
    "following the outline provided there. "
   ]
  },
  {
   "cell_type": "markdown",
   "metadata": {},
   "source": [
    "Step 1: Base case 2x2\n",
    "\n",
    "$$A= \\begin{bmatrix}\n",
    "    a & b \\\\\n",
    "    c & d\n",
    "\\end{bmatrix}$$\n",
    "\n",
    "Let\n",
    "$$L= \\begin{bmatrix}\n",
    "    1 & 0 \\\\\n",
    "    m & 1\n",
    "\\end{bmatrix}, U= \\begin{bmatrix}\n",
    "    u & v \\\\\n",
    "    0 & \\eta\n",
    "\\end{bmatrix}$$\n",
    "\n",
    "Then A=LU yields\n",
    "$$\\begin{bmatrix}\n",
    "    a & b \\\\\n",
    "    c & d\n",
    "\\end{bmatrix} =  \n",
    "\\begin{bmatrix}\n",
    "    1 & 0 \\\\\n",
    "    m & 1\n",
    "\\end{bmatrix} \n",
    "\\begin{bmatrix}\n",
    "    u & v \\\\\n",
    "    0 & \\eta\n",
    "\\end{bmatrix} = \\begin{bmatrix}\n",
    "    u & v \\\\\n",
    "    mu & mv+\\eta\n",
    "\\end{bmatrix}$$\n",
    "\n",
    "This gives 4 equations with a unique solution, so the base case is OK.\n",
    "\n",
    "Step 2: Assume that for a value k=n, we have a non-singular nxn matrix A with LU-factorization $A^n=L^nU^n$, where L and U are lower and upper triangular matrices of size nxn. \n",
    "\n",
    "\n",
    "Step 3: Show this also holds for k=n+1:\n",
    "\n",
    "For a matrix A of size (n+1)x(n+1) we rewrite it as \n",
    "$$\n",
    "A^{n+1}=\\begin{bmatrix}\n",
    "    A^{n} & b \\\\\n",
    "    c^T & d\n",
    "\\end{bmatrix}\n",
    "$$\n",
    "where $b$ is a column vector, $c^T$ is a row vector and d is a number. Writing this as a product of upper and lower triangular matrices of order n+1:\n",
    "$$\n",
    "\\begin{bmatrix}\n",
    "    A^{n} & b \\\\\n",
    "    c^T & d\n",
    "\\end{bmatrix} = \n",
    "\\begin{bmatrix}\n",
    "    L^n & 0 \\\\\n",
    "    m^T & 1\n",
    "\\end{bmatrix} \n",
    "\\begin{bmatrix}\n",
    "    U^n & v \\\\\n",
    "    0 & \\eta\n",
    "\\end{bmatrix}\n",
    "$$\n",
    "\n",
    "where $m^T$ is a (nx1) row vector, $v$ is a (1xn) column vector, and $\\eta$ a number. Multiplying out gives us that\n",
    "$$\n",
    "\\begin{bmatrix}\n",
    "    A^{n} & b \\\\\n",
    "    c^T & d\n",
    "\\end{bmatrix} = \n",
    "\\begin{bmatrix}\n",
    "    L^nU^n & L^nv \\\\\n",
    "    m^TU^n & m^Tv+\\eta\n",
    "\\end{bmatrix} \n",
    "$$\n",
    "\n",
    "To solve this we start by looking at the equations $L^nv=b$ and $m^TU^n=c^T$. Need a unique solution for $v$ and $m^T$ for there to be a uniqe LU-factorization, thus $L^n$ and $U^n$ need to be invertible. Assumed in step 2 that $A^n$ was non-singular, therefore we have that\n",
    "\n",
    "$$\n",
    "0\\neq det(A^n) = det(L^n)det(U^n),\n",
    "$$\n",
    "so neither of these are non-singular, thus they are invertible. Therefore we can comput the unique solution of $v$ and $mT$, and use this to solve the two equations we have left. Thus we have a unique LU-factorization for $A^{n+1}$, and the induction proof is complete.\n",
    "\n",
    "\n",
    "\n",
    "\n"
   ]
  },
  {
   "cell_type": "markdown",
   "metadata": {},
   "source": [
    "## Problem 2"
   ]
  },
  {
   "cell_type": "markdown",
   "metadata": {},
   "source": [
    "Given matrix $A \\in \\mathbb{R}^{n,n}$ and $\\boldsymbol{b} \\in \\mathbb{R}^n$,\n",
    "the goal of this problem set is to compute the solution $\\boldsymbol{x}$\n",
    "to the linear system $A \\boldsymbol{x} = \\boldsymbol{b}$ numerically\n",
    "by implementing the algorithms $A = LU$ factorization (whenever possible), and the backward and forward substitution steps in ```Python```.\n",
    "\n",
    "As a preliminary step, please make sure that you have import ```numpy```  as ```np``` by executing the cell right under \"Useful code snippets\"."
   ]
  },
  {
   "cell_type": "markdown",
   "metadata": {},
   "source": [
    "**a)** Implement a ```Python``` function ```forward_sub```:"
   ]
  },
  {
   "cell_type": "code",
   "execution_count": 3,
   "metadata": {
    "collapsed": true
   },
   "outputs": [],
   "source": [
    "def forward_sub(L, b):\n",
    "    \"\"\"Given a lower triangular matrix L and right-side vector b,\n",
    "    compute the solution vector y solving Ly = b.\"\"\"\n",
    "    \n",
    "    n = len(b)\n",
    "    y = np.zeros(n)\n",
    "    \n",
    "    for i in range(0,n):\n",
    "        sum = 0\n",
    "        for j in range(0,i):\n",
    "            sum += y[j]*L[i][j]\n",
    "            \n",
    "        y[i] = (b[i] - sum)/L[i][i]\n",
    "    return y\n"
   ]
  },
  {
   "cell_type": "markdown",
   "metadata": {},
   "source": [
    "**b)** Next, implement a ```Python``` function ```backward_sub```:"
   ]
  },
  {
   "cell_type": "code",
   "execution_count": 4,
   "metadata": {
    "collapsed": true
   },
   "outputs": [],
   "source": [
    "def backward_sub(U, y):\n",
    "    \"\"\"Given a lower triangular matrix U and right-side vector y,\n",
    "    compute the solution vector x solving Ux = y.\"\"\"\n",
    "    \n",
    "    n = len(y) - 1\n",
    "    x = np.zeros(n+1)\n",
    "    \n",
    "    for i in range(n,-1,-1):\n",
    "        \n",
    "        sum = 0\n",
    "        for j in range(n,i,-1):\n",
    "            sum += x[j]*U[i][j]\n",
    "            \n",
    "        x[i] = (y[i] - sum)/U[i][i]\n",
    "    return x\n"
   ]
  },
  {
   "cell_type": "markdown",
   "metadata": {},
   "source": [
    "**c)** Now, implement a Python function which computes for a given matrix $A \\boldsymbol{R}^{n,n}$ the $LU$ factorization of $A = LU$ ((if possible).\n",
    "You can either base your implemenentation on the Banachiewicz or Crout method (explain in Lecture 3) or any method\n",
    "you might dig up from the literature.\n",
    "If you want, you can take some inspiration from the reference **YEB**, Chapter 3.3, see Program 4, 5, 6.\n",
    "\n",
    "If the factorization fails without permutating $A$, you should at least be so kind\n",
    "and raise an ```Exception```, see [Python 3 tutorial, 8. Errors and Exceptions](\n",
    "https://docs.python.org/3/tutorial/errors.html#errors-and-exceptions).\n",
    "More specifically, you can simply raise an [NotImplementedError](https://docs.python.org/3/library/exceptions.html#NotImplementedError) exception.\n",
    "\n",
    "Of course, you can also implement the full $PA = LU$ decomposition if you don't want to throw Exceptions around :)."
   ]
  },
  {
   "cell_type": "code",
   "execution_count": 5,
   "metadata": {
    "collapsed": true
   },
   "outputs": [],
   "source": [
    "def lu_factor(A):\n",
    "        \n",
    "    n = len(A)\n",
    "    L = [[0 for x in range(n)]  \n",
    "            for y in range(n)] \n",
    "    U = A\n",
    "\n",
    "    for j in range(n):\n",
    "        L[j][j] = 1\n",
    "        for k in range(j):\n",
    "            for i in range(k+1,n):\n",
    "\n",
    "                U[i][j] = U[i][j] - L[i][k]*U[k][j]\n",
    "\n",
    "        for i in range(j+1,n):\n",
    "            if U[j][j] == 0:\n",
    "                raise NotImplementedError('Ikke implementert')\n",
    "            L[i][j] = U[i][j]/U[j][j]\n",
    "            U[i][j] = 0\n",
    "\n",
    "\n",
    "    return(L,U)\n"
   ]
  },
  {
   "cell_type": "markdown",
   "metadata": {},
   "source": [
    "**d)** Next, combine the Python functions you just implemented in a)-b) to provide\n",
    "solver for the linear system $A \\boldsymbol{x} = \\boldsymbol{b}$ based on\n",
    "a given $A = LU$ factorization. "
   ]
  },
  {
   "cell_type": "code",
   "execution_count": 6,
   "metadata": {
    "collapsed": true
   },
   "outputs": [],
   "source": [
    "def lu_solve(L, U, b):\n",
    "    # Step 1: Solve Ly = b using forward substitution\n",
    "    y = forward_sub(L,b)\n",
    "    # Step 2: Solve Ux = y using backward substitution\n",
    "    x = backward_sub(U,y)\n",
    "    \n",
    "    return x"
   ]
  },
  {
   "cell_type": "markdown",
   "metadata": {},
   "source": [
    "**e)** Finally, write a ```linear_solve``` function  by simply combining your ```lu_factor``` and ```lu_solve```. "
   ]
  },
  {
   "cell_type": "code",
   "execution_count": 7,
   "metadata": {
    "collapsed": false
   },
   "outputs": [
    {
     "data": {
      "text/plain": [
       "array([1., 2., 2.])"
      ]
     },
     "execution_count": 7,
     "metadata": {},
     "output_type": "execute_result"
    }
   ],
   "source": [
    "def linear_solve(A, b):\n",
    "    \n",
    "    L,U = lu_factor(A)\n",
    "    x = lu_solve(L,U,b)\n",
    "    \n",
    "    return x\n",
    "A = [[2,-1,-2],\n",
    "    [-4,6,3],\n",
    "     [-4,-2,8]]\n",
    "\n",
    "b = [-4,14,8]\n",
    "linear_solve(A,b)"
   ]
  },
  {
   "cell_type": "markdown",
   "metadata": {},
   "source": [
    "**f)** Use you brand new `linear_solve` function to compute the solution to a non-trivial linear system. Here non-trivial means that $n > 4$ :) and a non-zero right-hand side $\\boldsymbol{b}$.\n",
    "\n",
    "*Hint*: To check whether your code computes the \"exact\" result, you can use the \n",
    "method of **manufactured solution**. In the case of linear systems $A \\boldsymbol{x} = \\boldsymbol{b}$ this means that for **given/chosen** matrix $A$ and solution vector $\\boldsymbol{x}$, you simply compute the resulting right-hand side vector \n",
    "$\\boldsymbol{b} = A \\boldsymbol{x}$ to construct an example where you know the solution.\n",
    "When you now solve $A\\boldsymbol{x} = \\boldsymbol{b}$ starting from $A$, $\\boldsymbol{b}$, your implementation should return the correct $\\boldsymbol{x}$."
   ]
  },
  {
   "cell_type": "markdown",
   "metadata": {},
   "source": [
    "## Problem 3\n",
    "\n",
    "The objective of this problem set is two-fold. First, we will have an actual look \n",
    "at the complexity of the linear solver you implemented in the previous problem.\n",
    "Second, we want to illustrate that the finite precision of real numbers\n",
    "can matter very much in actual computations.\n",
    "\n",
    "We start by introducing the **Hilbert Matrix** $H_n$ of order $n$ by\n",
    "$$ \n",
    "(H_n)_{ij} = \\dfrac{1}{i+j-1} \\quad \\text{for } 1 \\leqslant i,j \\leqslant n.\n",
    "$$\n",
    "\n",
    "\n",
    "The Hilbert matrix is readily available in the ```scipy.linalg``` module, so you simply\n",
    "type, e.g\n",
    "\n",
    "```python\n",
    "n = 3\n",
    "A = la.hilbert(n)\n",
    "```\n",
    "Recall that we imported the ```linalg``` module and renamed it to ```la``` via the\n",
    "```python \n",
    "import scipy.linalg as la\n",
    "``` \n",
    "line at the beginning of this notebook."
   ]
  },
  {
   "cell_type": "markdown",
   "metadata": {},
   "source": [
    "**a)** \n",
    "Define the trivial righ-hand side $\\boldsymbol{b} = \\boldsymbol{0}$\n",
    "and measure the executation time for the various step in your linear_solver.\n",
    "To do so you can use ```%timeit``` and ```%%timeit``` magic functions in IPython,\n",
    "see [corresponding documentation](https://ipython.readthedocs.io/en/stable/interactive/magics.html#magic-timeit).\n",
    "\n",
    "In a nutshell, ```%%timeit``` measures the executation time of an entire cell, while ```%timeit```\n",
    "only measures only the executation time of a single line, e.g. as in\n",
    "\n",
    "```python\n",
    "%timeit my_function()\n",
    "```\n",
    "\n",
    "Note that the latter might not play well with functions returning arguments.\n",
    "To this end, you can simply (re)write a linear solver in  3 lines (1 line per cell)\n",
    "starting from calling your  ```lu_factor``` function and\n",
    "copy-pasting the lines from Step 1 to Step 2 in the ```linear_solve()``` function.\n",
    "Then use the ```%%timeit``` to measure the executation time of each cell.\n",
    "\n",
    "To get accurate timeing results, ```timeit``` automatically runs the same code multiple\n",
    "times in  a loop, and repeats that measurement a number of times.\n",
    "The actual number of loops and repeats is selected automatically and will be printed out at the end. They can also be manually adjusted by using\n",
    "\n",
    "```\n",
    "%%timeit -n<number_of_loops> -r<number_of_repeats>\n",
    "```\n",
    "\n",
    "\n",
    "Now for $n = 500, 1000, 2000, 4000$, measure the executation time for each step in the linear solve\n",
    "(factorizing, forward and backward substitution) and plot\n",
    "the execution time $t$ against the number of unknowns $n$ in a $\\log$-$\\log$ plot,\n",
    "that is, $\\log(t)$ against $\\log(n)$.\n",
    "(Matplotlib has specific functions for log-log plotting)"
   ]
  },
  {
   "cell_type": "code",
   "execution_count": 9,
   "metadata": {
    "collapsed": false
   },
   "outputs": [
    {
     "name": "stdout",
     "output_type": "stream",
     "text": [
      "3.83 ms ± 82.9 µs per loop (mean ± std. dev. of 7 runs, 100 loops each)\n",
      "34.9 ms ± 231 µs per loop (mean ± std. dev. of 7 runs, 10 loops each)\n",
      "225 ms ± 1.3 ms per loop (mean ± std. dev. of 7 runs, 1 loop each)\n",
      "1.94 s ± 150 ms per loop (mean ± std. dev. of 7 runs, 1 loop each)\n"
     ]
    },
    {
     "data": {
      "image/png": "[encoded data removed]",
      "text/plain": [
       "<Figure size 432x288 with 1 Axes>"
      ]
     },
     "metadata": {
      "needs_background": "light"
     },
     "output_type": "display_data"
    }
   ],
   "source": [
    "#The function used too much time to compute complexity for the given n-values, so we had to downscale them.\n",
    "\n",
    "\n",
    "#Plotted against n**3 to compare complexity\n",
    "\n",
    "n = np.array([25,50,100,200])\n",
    "res = []\n",
    "\n",
    "for i in range(4):\n",
    "    A = la.hilbert(n[i])\n",
    "    t = %timeit -o lu_factor(A)\n",
    "    res.append(t.timings)\n",
    "    \n",
    "plt.loglog(n,res)\n",
    "plt.loglog(n,10**(-6)*n**3, \"--\")\n",
    "plt.grid()\n",
    "plt.show()"
   ]
  },
  {
   "cell_type": "code",
   "execution_count": 16,
   "metadata": {
    "collapsed": false
   },
   "outputs": [
    {
     "name": "stdout",
     "output_type": "stream",
     "text": [
      "93 µs ± 2.65 µs per loop (mean ± std. dev. of 7 runs, 10000 loops each)\n",
      "329 µs ± 9.16 µs per loop (mean ± std. dev. of 7 runs, 1000 loops each)\n",
      "1.41 ms ± 242 µs per loop (mean ± std. dev. of 7 runs, 1000 loops each)\n",
      "4.88 ms ± 119 µs per loop (mean ± std. dev. of 7 runs, 100 loops each)\n"
     ]
    },
    {
     "data": {
      "image/png": "[encoded data removed]",
      "text/plain": [
       "<Figure size 432x288 with 1 Axes>"
      ]
     },
     "metadata": {
      "needs_background": "light"
     },
     "output_type": "display_data"
    }
   ],
   "source": [
    "#Plotted against n**2 to compare complexity\n",
    "\n",
    "n = np.array([25,50,100,200])\n",
    "res = []\n",
    "\n",
    "for i in range(4):\n",
    "    A = la.hilbert(n[i])\n",
    "    L,U = lu_factor(A)\n",
    "    b = [j for j in range(n[i])]\n",
    "    t = %timeit -o forward_sub(L,b)\n",
    "    res.append(t.timings)\n",
    "    \n",
    "plt.loglog(n,res)\n",
    "plt.loglog(n,10**(-7)*n**2, \"--\")\n",
    "plt.grid()\n",
    "plt.show()"
   ]
  },
  {
   "cell_type": "code",
   "execution_count": 14,
   "metadata": {
    "collapsed": false
   },
   "outputs": [
    {
     "name": "stdout",
     "output_type": "stream",
     "text": [
      "156 µs ± 1.92 µs per loop (mean ± std. dev. of 7 runs, 10000 loops each)\n",
      "605 µs ± 4.58 µs per loop (mean ± std. dev. of 7 runs, 1000 loops each)\n",
      "2.32 ms ± 30.8 µs per loop (mean ± std. dev. of 7 runs, 100 loops each)\n",
      "9.5 ms ± 60.1 µs per loop (mean ± std. dev. of 7 runs, 100 loops each)\n"
     ]
    },
    {
     "data": {
      "image/png": "[encoded data removed]",
      "text/plain": [
       "<Figure size 432x288 with 1 Axes>"
      ]
     },
     "metadata": {
      "needs_background": "light"
     },
     "output_type": "display_data"
    }
   ],
   "source": [
    "#Plotted against n**2 to compare complexity\n",
    "\n",
    "n = np.array([25,50,100,200])\n",
    "res = []\n",
    "\n",
    "for i in range(4):\n",
    "    A = la.hilbert(n[i])\n",
    "    L,U = lu_factor(A)\n",
    "    b = [j for j in range(n[i])]\n",
    "    y = forward_sub(L,b)\n",
    "    t = %timeit -o backward_sub(U,y)\n",
    "    res.append(t.timings)\n",
    "    \n",
    "plt.loglog(n,res)\n",
    "plt.loglog(n,4*10**(-5)*n**2, \"--\")\n",
    "plt.grid()\n",
    "plt.show()"
   ]
  },
  {
   "cell_type": "markdown",
   "metadata": {},
   "source": [
    "**b)** Next, define a non-trivial vector $\\boldsymbol{b}$ by\n",
    "$$\n",
    "b_i = \\sum_{j=1}^n (j/(i+j-1)) \n",
    "$$\n",
    "so that the **exact solution** to the lineary system $H_n \\boldsymbol{x} = \\boldsymbol{b}$ is\n",
    "the vector $\\boldsymbol{x}_{\\mathrm{ex}}$  with elements $x_{\\mathrm{ex},i} = i$.\n",
    "Now solve the system using your ```linear_solve``` function for $n = 2, 4, 8, 16$, print the computed solution vector $\\boldsymbol{x}_{\\mathrm{comp}}$ and compare it with $\\boldsymbol{x}_{\\mathrm{ex}}$. In particular compute \n",
    "\n",
    "$$\\|\\boldsymbol{x}_{\\mathrm{ex}}-\\boldsymbol{x}_{\\mathrm{comp}}\\|_2.$$\n",
    "\n",
    "What do you observe? Can you explain your observations?\n",
    "\n",
    "*Hint*: It can be shown that the condition number $\\kappa_2(H_n)$ scales like\n",
    "$$\n",
    "\\kappa_2(H_n) \\sim \\dfrac{\\left(\\sqrt{2}+1\\right)^{4n+4}}{2^{15/4}\\sqrt{\\pi n}}\n",
    "\\text{as } n \\to  \\infty.\n",
    "$$\n",
    "\n",
    "Tabulate the approximate values of $\\kappa_2(H_n)$ for $n = 2, 4, 8, 16$.\n",
    "\n",
    "This exercise was heavily inspired by Section 2.8 in **BLUB**."
   ]
  },
  {
   "cell_type": "code",
   "execution_count": null,
   "metadata": {
    "collapsed": true
   },
   "outputs": [],
   "source": [
    "from math import *\n",
    "\n",
    "n = np.array([2,4,8,16])\n",
    "\n",
    "for k in range(len(n)):\n",
    "    b = np.zeros(n[k])\n",
    "    s = np.arange(1,n[k]+1)\n",
    "    for i in range(n[k]):\n",
    "        sum = 0\n",
    "        for j in range(1,n[k]+1):\n",
    "            sum += j/(i+j)\n",
    "        b[i] = sum\n",
    "    x = linear_solve(la.hilbert(n[k]),b)\n",
    "    e = 0\n",
    "    for q in range(n[k]):\n",
    "        e += (s[q] - x[q])**2\n",
    "    e = sqrt(e)\n",
    "    \n",
    "    print(\"Løsningen for n = \",n[k],\"er: \",np.round(x))\n",
    "    print(\"Feilen er: \", np.round(e,decimals = 15))\n"
   ]
  },
  {
   "cell_type": "code",
   "execution_count": null,
   "metadata": {
    "collapsed": true
   },
   "outputs": [],
   "source": []
  }
 ],
 "metadata": {
  "anaconda-cloud": {},
  "kernelspec": {
   "display_name": "Python 3",
   "language": "python",
   "name": "python3"
  },
  "language_info": {
   "codemirror_mode": {
    "name": "ipython",
    "version": 3
   },
   "file_extension": ".py",
   "mimetype": "text/x-python",
   "name": "python",
   "nbconvert_exporter": "python",
   "pygments_lexer": "ipython3",
   "version": "3.6.0"
  }
 },
 "nbformat": 4,
 "nbformat_minor": 4
}
